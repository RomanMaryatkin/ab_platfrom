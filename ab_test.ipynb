{
 "cells": [
  {
   "cell_type": "code",
   "execution_count": 2,
   "metadata": {},
   "outputs": [],
   "source": [
    "import model as ab"
   ]
  },
  {
   "cell_type": "code",
   "execution_count": 6,
   "metadata": {},
   "outputs": [],
   "source": [
    "exp = ab.Experiment(\n",
    "    exp_os='iOS',\n",
    "    exp_toggle='firebase_exp_340',\n",
    "    exp_name='exp_filter_discount',\n",
    "    start_date='2024-02-26',\n",
    "    end_date='2024-03-24',\n",
    "    test_params='test'\n",
    ")\n",
    "\n",
    "with open(\"conn.json\", 'r') as f:\n",
    "    conn_dict = ab.json.load(f)\n",
    "\n",
    "conn_ch = {\n",
    "    'host': f'{conn_dict[\"url\"]}:{conn_dict[\"port\"]}',\n",
    "    'password': f'{conn_dict[\"password\"]}',\n",
    "    'user': f'{conn_dict[\"user\"]}',\n",
    "    'database':'dwh_datamart'\n",
    "}"
   ]
  },
  {
   "cell_type": "code",
   "execution_count": null,
   "metadata": {},
   "outputs": [],
   "source": [
    "df = ab.pd.read_csv(\"ab_data.csv\")\n",
    "df.group_field = df.group_field.astype(str)"
   ]
  },
  {
   "cell_type": "code",
   "execution_count": null,
   "metadata": {},
   "outputs": [],
   "source": [
    "res_df, res_pivot_df = ab.get_results(df)"
   ]
  },
  {
   "cell_type": "code",
   "execution_count": null,
   "metadata": {},
   "outputs": [],
   "source": [
    "pub_res_df = ab.get_publish_results(exp, res_pivot_df)"
   ]
  },
  {
   "cell_type": "code",
   "execution_count": null,
   "metadata": {},
   "outputs": [],
   "source": [
    "ab.save_results_to_excel(exp, pub_res_df)\n",
    "ab.save_results_to_db(exp, pub_res_df)"
   ]
  }
 ],
 "metadata": {
  "kernelspec": {
   "display_name": "Python 3",
   "language": "python",
   "name": "python3"
  },
  "language_info": {
   "codemirror_mode": {
    "name": "ipython",
    "version": 3
   },
   "file_extension": ".py",
   "mimetype": "text/x-python",
   "name": "python",
   "nbconvert_exporter": "python",
   "pygments_lexer": "ipython3",
   "version": "3.11.9"
  }
 },
 "nbformat": 4,
 "nbformat_minor": 2
}
